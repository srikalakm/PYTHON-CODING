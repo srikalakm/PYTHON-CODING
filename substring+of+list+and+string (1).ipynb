{
 "cells": [
  {
   "cell_type": "markdown",
   "metadata": {},
   "source": [
    "# python code"
   ]
  },
  {
   "cell_type": "code",
   "execution_count": 31,
   "metadata": {},
   "outputs": [
    {
     "name": "stdout",
     "output_type": "stream",
     "text": [
      "enter key string: srikala\n",
      "enter no of elements in list3\n",
      "srik\n",
      "srikala\n",
      "srivathsa\n",
      "<s>sriksrikala</s>srivathsa\n"
     ]
    }
   ],
   "source": [
    "   \n",
    "n=input(\"enter key string: \")\n",
    "m=int(input(\"enter no of elements in list\"))\n",
    "l=[]\n",
    "for i in range(m):\n",
    "    a=input()\n",
    "    l.append(a)    \n",
    "j=[]  \n",
    "m=[]\n",
    "m.append('</s>')\n",
    "j.append('<s>')\n",
    "if n in l:\n",
    "    for i in l:\n",
    "        if n.find(i)!=-1:\n",
    "                c=n.find(i)\n",
    "                j.append(i)\n",
    "                k=''.join(j)       \n",
    "        else:    \n",
    "                 m.append(i)       \n",
    "        g=''.join(m)  \n",
    "    print(k+g)\n",
    "else:\n",
    "    for i in l:\n",
    "         if i not in j:\n",
    "                 m.append(i)            \n",
    "    g=''.join(m)  \n",
    "    print(g)\n",
    "\n",
    "    "
   ]
  },
  {
   "cell_type": "code",
   "execution_count": null,
   "metadata": {
    "collapsed": true
   },
   "outputs": [],
   "source": []
  }
 ],
 "metadata": {
  "kernelspec": {
   "display_name": "Python 3",
   "language": "python",
   "name": "python3"
  },
  "language_info": {
   "codemirror_mode": {
    "name": "ipython",
    "version": 3
   },
   "file_extension": ".py",
   "mimetype": "text/x-python",
   "name": "python",
   "nbconvert_exporter": "python",
   "pygments_lexer": "ipython3",
   "version": "3.6.8"
  }
 },
 "nbformat": 4,
 "nbformat_minor": 2
}
