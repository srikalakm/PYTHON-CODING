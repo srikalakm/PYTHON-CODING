{
 "cells": [
  {
   "cell_type": "markdown",
   "metadata": {},
   "source": [
    "# python code"
   ]
  },
  {
   "cell_type": "code",
   "execution_count": 1,
   "metadata": {},
   "outputs": [
    {
     "name": "stdout",
     "output_type": "stream",
     "text": [
      "srikala\n",
      "3\n",
      "amma\n",
      "appa\n",
      "srikala\n",
      "</s>ammaappasrikala\n",
      "</s>ammaappasrikala</s>ammaappasrikala\n",
      "<s>amma</s>ammaappasrikala</s>ammaappasrikala</s>appasrikala\n",
      "</s>ammaappasrikala</s>ammaappasrikala</s>appasrikala</s>appasrikala\n"
     ]
    }
   ],
   "source": [
    "    \n",
    "n=input()\n",
    "m=int(input())\n",
    "l=[]\n",
    "for i in range(m):\n",
    "    a=input()\n",
    "    l.append(a)\n",
    "j=[]  \n",
    "m=[]\n",
    "for i in l:\n",
    "    if n.find(i)!=-1:\n",
    "            for i in l:    \n",
    "                if n.find(i)!=-1:\n",
    "                        c=n.find(i)\n",
    "                        j.extend(['<s>',l[c]])\n",
    "        \n",
    "                k=''.join(j)\n",
    "        \n",
    "        \n",
    "                m.append('</s>')\n",
    "                for i in l:\n",
    "                    if i not in j:\n",
    "                         m.append(i)\n",
    "                \n",
    "                g=''.join(m)  \n",
    "                print(k+g)\n",
    "else:\n",
    "    m.append('</s>')\n",
    "    for i in l:\n",
    "         if i not in j:\n",
    "                 m.append(i)\n",
    "                \n",
    "    g=''.join(m)  \n",
    "    print(g)\n"
   ]
  },
  {
   "cell_type": "code",
   "execution_count": null,
   "metadata": {
    "collapsed": true
   },
   "outputs": [],
   "source": []
  }
 ],
 "metadata": {
  "kernelspec": {
   "display_name": "Python 3",
   "language": "python",
   "name": "python3"
  },
  "language_info": {
   "codemirror_mode": {
    "name": "ipython",
    "version": 3
   },
   "file_extension": ".py",
   "mimetype": "text/x-python",
   "name": "python",
   "nbconvert_exporter": "python",
   "pygments_lexer": "ipython3",
   "version": "3.6.8"
  }
 },
 "nbformat": 4,
 "nbformat_minor": 2
}
